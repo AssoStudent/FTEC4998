{
 "cells": [
  {
   "cell_type": "code",
   "execution_count": 1,
   "id": "15a8e01f",
   "metadata": {},
   "outputs": [],
   "source": [
    "# Install packages #\n",
    "# !pip install numpy\n",
    "# !pip install matplotlib\n",
    "# !pip install torch\n",
    "# !pip install xlrd\n",
    "# !pip install pandas\n",
    "# !pip install torchvision"
   ]
  },
  {
   "cell_type": "code",
   "execution_count": 2,
   "id": "93b59c98",
   "metadata": {},
   "outputs": [],
   "source": [
    "import csv\n",
    "import numpy as np\n",
    "import matplotlib.pyplot as plt\n",
    "import pandas as pd\n",
    "import os\n",
    "import torch\n",
    "from torch import nn\n",
    "from torch.utils.data import TensorDataset, DataLoader\n",
    "from torchvision import datasets, transforms"
   ]
  },
  {
   "cell_type": "code",
   "execution_count": 3,
   "id": "77eb81ff",
   "metadata": {
    "scrolled": true
   },
   "outputs": [],
   "source": [
    "# Loading training data\n",
    "dataset = pd.read_csv(\"bmi_train.csv\")\n",
    "dataset.replace({'Gender': {'Female': 0, 'Male': 1}}, inplace=True) #Gender -> boolean\n",
    "dataset = dataset.to_numpy()\n",
    "\n",
    "# Splitting off 80% of data for training, 20% for validation\n",
    "train_split = int(0.8 * len(dataset))\n",
    "X_train = dataset[:train_split, [0,1,2]]\n",
    "y_train = dataset[:train_split, 3]\n",
    "X_test = dataset[train_split:, [0,1,2]]\n",
    "y_test = dataset[train_split:, 3]\n",
    "\n",
    "# Loading prediction data\n",
    "prediction_dataset = pd.read_csv(\"bmi_validation.csv\")\n",
    "prediction_dataset.replace({'Gender': {'Female': 0, 'Male': 1}}, inplace=True) #Gender -> boolean\n",
    "X_prediction = prediction_dataset.to_numpy()\n",
    "\n",
    "# Normalize data set\n",
    "X_train_normalized = (X_train - X_train.min(0)) / (X_train.max(0) - X_train.min(0))\n",
    "X_test_normalized = (X_test - X_test.min(0)) / (X_test.max(0) - X_test.min(0))\n",
    "X_prediction_normalized = (X_prediction - X_prediction.min(0)) / (X_prediction.max(0) - X_prediction.min(0))\n",
    "\n",
    "# Turn data to tensor\n",
    "X_train_tensor = torch.from_numpy(X_train_normalized)\n",
    "y_train_tensor = torch.from_numpy(y_train)\n",
    "X_test_tensor = torch.from_numpy(X_test_normalized)\n",
    "y_test_tensor = torch.from_numpy(y_test)\n",
    "X_prediction_tensor = torch.from_numpy(X_prediction_normalized)"
   ]
  },
  {
   "cell_type": "code",
   "execution_count": 45,
   "id": "8dd85410",
   "metadata": {},
   "outputs": [],
   "source": [
    "# Train and test error rate analysis function\n",
    "def calculate_error_rate(X, y, w, b):\n",
    "    num_samples = X.shape[0]\n",
    "    y_pred = np.dot(X, w) + b\n",
    "    y_pred = torch.round(torch.from_numpy(y_pred))\n",
    "    error_count = torch.count_nonzero(y_pred - y)\n",
    "    error_rate = error_count / num_samples\n",
    "    return error_rate"
   ]
  },
  {
   "cell_type": "markdown",
   "id": "f9a9bae8",
   "metadata": {},
   "source": [
    "Custom SGD"
   ]
  },
  {
   "cell_type": "code",
   "execution_count": 46,
   "id": "1017f7dd",
   "metadata": {},
   "outputs": [
    {
     "name": "stdout",
     "output_type": "stream",
     "text": [
      "Learned parameters:\n",
      "w0 = 0.06080885770923467\n",
      "w1 = -2.133461679057142\n",
      "w2 = 3.8474224433861615\n",
      "b = 2.8643211189596514\n"
     ]
    },
    {
     "data": {
      "image/png": "[encoded data removed]",
      "text/plain": [
       "<Figure size 640x480 with 1 Axes>"
      ]
     },
     "metadata": {},
     "output_type": "display_data"
    },
    {
     "name": "stdout",
     "output_type": "stream",
     "text": [
      "Train error rate: tensor(0.3812)\n",
      "Test error rate: tensor(0.3625)\n"
     ]
    }
   ],
   "source": [
    "# Vanilia Gradient Descent Algorithms\n",
    "def gradient_descent(X, y, learning_rate, num_iterations):\n",
    "    num_samples, num_features = X.shape\n",
    "    \n",
    "    # Initialize weights and bias\n",
    "    w = np.zeros(num_features)\n",
    "    b = 0\n",
    "    cost_history = []\n",
    "    \n",
    "    for _ in range(num_iterations):\n",
    "        # Calculate predictions\n",
    "        y_pred = np.dot(X, w) + b\n",
    "        \n",
    "        # Calculate the difference between predictions and actual values\n",
    "        error = y_pred - y\n",
    "        \n",
    "        # Calculate the gradient\n",
    "        w_gradient = (1/num_samples) * np.dot(X.T, error)\n",
    "        b_gradient = (1/num_samples) * np.sum(error)\n",
    "        \n",
    "        # Update theta using the learning rate and gradient\n",
    "        w -= learning_rate * w_gradient\n",
    "        b -= learning_rate * b_gradient\n",
    "        \n",
    "        # Calculate the cost (mean squared error)\n",
    "        cost = np.mean(np.square(error))\n",
    "        cost_history.append(cost)\n",
    "    \n",
    "    return w, b, cost_history\n",
    "\n",
    "# Train the model using gradient descent\n",
    "learning_rate = 0.01\n",
    "num_iterations = 10000\n",
    "w, b, cost_history = gradient_descent(X_train_normalized, y_train, learning_rate, num_iterations)\n",
    "\n",
    "# Print the learned parameters\n",
    "print(\"Learned parameters:\")\n",
    "\n",
    "for i, w_i in enumerate(w):\n",
    "    print(f\"w{i} =\", w_i)\n",
    "print(\"b =\", b)\n",
    "\n",
    "# Plot the cost history\n",
    "plt.plot(cost_history)\n",
    "plt.xlabel(\"Iteration\")\n",
    "plt.ylabel(\"Cost\")\n",
    "plt.title(\"Cost History\")\n",
    "plt.show()\n",
    "\n",
    "# Calculate train error rate\n",
    "train_error_rate = calculate_error_rate(X_train_normalized,  y_train, w, b)\n",
    "print(\"Train error rate:\", train_error_rate)\n",
    "    \n",
    "# Calculate test error rate if test data is provided\n",
    "if X_test is not None and y_test is not None:\n",
    "    test_error_rate = calculate_error_rate(X_test_normalized, y_test, w, b)\n",
    "    print(\"Test error rate:\", test_error_rate)"
   ]
  },
  {
   "cell_type": "code",
   "execution_count": 41,
   "id": "bbf7d08d",
   "metadata": {
    "scrolled": false
   },
   "outputs": [
    {
     "name": "stdout",
     "output_type": "stream",
     "text": [
      "Learned parameters:\n",
      "w0 = 0.060784860737981485\n",
      "w1 = -2.13745714604838\n",
      "w2 = 3.8466404115221735\n",
      "b = 2.867737974603594\n"
     ]
    },
    {
     "data": {
      "image/png": "[encoded data removed]",
      "text/plain": [
       "<Figure size 640x480 with 1 Axes>"
      ]
     },
     "metadata": {},
     "output_type": "display_data"
    },
    {
     "name": "stdout",
     "output_type": "stream",
     "text": [
      "Train error rate: tensor(0.3812)\n",
      "Test error rate: tensor(0.3625)\n"
     ]
    }
   ],
   "source": [
    "# Stochastic Gradien Descent Algorithms\n",
    "def stochastic_gradient_descent(X, y, learning_rate, num_epochs, batch_size):\n",
    "    num_samples, num_features = X.shape\n",
    "    num_batches = num_samples // batch_size\n",
    "\n",
    "    # Initialize weights and bias\n",
    "    w = np.zeros(num_features)\n",
    "    b = 0\n",
    "    cost_history = []\n",
    "\n",
    "    for epoch in range(num_epochs):\n",
    "        # Shuffle the data for each epoch\n",
    "        permutation = np.random.permutation(num_samples)\n",
    "        X_shuffled = X[permutation]\n",
    "        y_shuffled = y[permutation]\n",
    "\n",
    "        for batch in range(num_batches):\n",
    "            # Select the current batch\n",
    "            start = batch * batch_size\n",
    "            end = (batch + 1) * batch_size\n",
    "            X_batch = X_shuffled[start:end]\n",
    "            y_batch = y_shuffled[start:end]\n",
    "\n",
    "            # Calculate predictions\n",
    "            y_pred = np.dot(X_batch, w) + b\n",
    "\n",
    "            # Calculate the difference between predictions and actual values\n",
    "            error = y_pred - y_batch\n",
    "\n",
    "            # Calculate the gradients\n",
    "            w_gradient = (1 / batch_size) * np.dot(X_batch.T, error)\n",
    "            b_gradient = (1 / batch_size) * np.sum(error)\n",
    "\n",
    "            # Update weights and bias\n",
    "            w -= learning_rate * w_gradient\n",
    "            b -= learning_rate * b_gradient\n",
    "\n",
    "            # Calculate the cost (mean squared error)\n",
    "            cost = np.mean(np.square(error))\n",
    "            cost_history.append(cost)\n",
    "            \n",
    "    return w, b, cost_history\n",
    "\n",
    "# Train the model using stochastic gradient descent\n",
    "learning_rate = 0.01\n",
    "num_epochs = 10000\n",
    "batch_size = 10\n",
    "w, b, cost_history = stochastic_gradient_descent(X_train_normalized, y_train, learning_rate, num_epochs, batch_size)\n",
    "\n",
    "# Print the learned parameters\n",
    "print(\"Learned parameters:\")\n",
    "for i, w_i in enumerate(w):\n",
    "    print(f\"w{i} =\", w_i)\n",
    "print(\"b =\", b)\n",
    "\n",
    "# Plot the cost history\n",
    "plt.plot(cost_history)\n",
    "plt.xlabel(\"Iteration\")\n",
    "plt.ylabel(\"Cost\")\n",
    "plt.title(\"Cost History\")\n",
    "plt.show()\n",
    "\n",
    "# Calculate train error rate\n",
    "train_error_rate = calculate_error_rate(X_train_normalized,  y_train, w, b)\n",
    "print(\"Train error rate:\", train_error_rate)\n",
    "    \n",
    "# Calculate test error rate if test data is provided\n",
    "if X_test is not None and y_test is not None:\n",
    "    test_error_rate = calculate_error_rate(X_test_normalized, y_test, w, b)\n",
    "    print(\"Test error rate:\", test_error_rate)"
   ]
  },
  {
   "cell_type": "markdown",
   "id": "d38cfbbe",
   "metadata": {},
   "source": [
    "Pytorch SGD"
   ]
  },
  {
   "cell_type": "markdown",
   "id": "8707afbc",
   "metadata": {},
   "source": [
    "Pytorch SGD Test (This is done by Chris for testing purpose)"
   ]
  },
  {
   "cell_type": "code",
   "execution_count": 47,
   "id": "9bc595f3",
   "metadata": {
    "scrolled": true
   },
   "outputs": [
    {
     "name": "stdout",
     "output_type": "stream",
     "text": [
      "Trained weights: tensor([ 0.0608, -2.1335,  3.8474], requires_grad=True)\n",
      "Trained bias: tensor([2.8643], requires_grad=True)\n"
     ]
    },
    {
     "data": {
      "image/png": "[encoded data removed]",
      "text/plain": [
       "<Figure size 640x480 with 1 Axes>"
      ]
     },
     "metadata": {},
     "output_type": "display_data"
    },
    {
     "name": "stdout",
     "output_type": "stream",
     "text": [
      "Train error rate: tensor(0.3812)\n",
      "Test error rate: tensor(0.3625)\n"
     ]
    }
   ],
   "source": [
    "# Define the learning rate and number of epochs\n",
    "learning_rate = 0.01\n",
    "num_epochs = 5000\n",
    "\n",
    "# Define the number of features\n",
    "num_features = X_train_tensor.size()[1]\n",
    "\n",
    "# Define the model parameters (weights and bias)\n",
    "w = torch.zeros(num_features, dtype=torch.float, requires_grad=True)\n",
    "b = torch.zeros(1, dtype=torch.float, requires_grad=True)\n",
    "cost_history = []\n",
    "\n",
    "# Define the loss function\n",
    "criterion = torch.nn.MSELoss()\n",
    "\n",
    "# Define the optimizer (Vanilla Gradient Descent)\n",
    "optimizer = torch.optim.SGD([w, b], lr=learning_rate)\n",
    "\n",
    "# Perform gradient descent\n",
    "for epoch in range(num_epochs):\n",
    "    # Forward pass\n",
    "    outputs = torch.matmul(X_train_tensor.float(), w) + b\n",
    "    loss = criterion(outputs, y_train_tensor.float())\n",
    "\n",
    "    # Backward pass and optimization\n",
    "    optimizer.zero_grad()\n",
    "    loss.backward()\n",
    "    optimizer.step()\n",
    "\n",
    "    # Record the loss\n",
    "    cost_history.append(loss.detach().numpy())\n",
    "    \n",
    "#    # Print the loss every 10 epochs\n",
    "#    if (epoch + 1) % 10 == 0:\n",
    "#        print(f'Epoch [{epoch+1}], Loss: {loss.item():.8f}')\n",
    "        \n",
    "\n",
    "# Print learned parameters\n",
    "print('Trained weights:', w)\n",
    "print('Trained bias:', b)\n",
    "\n",
    "# Plot the cost history\n",
    "plt.plot(cost_history)\n",
    "plt.xlabel(\"Iteration\")\n",
    "plt.ylabel(\"Cost\")\n",
    "plt.title(\"Cost History\")\n",
    "plt.show()\n",
    "\n",
    "# Calculate train error rate\n",
    "train_error_rate = calculate_error_rate(X_train_normalized,  y_train, w.detach().numpy(), b.detach().numpy())\n",
    "print(\"Train error rate:\", train_error_rate)\n",
    "    \n",
    "# Calculate test error rate if test data is provided\n",
    "if X_test is not None and y_test is not None:\n",
    "    test_error_rate = calculate_error_rate(X_test_normalized, y_test, w.detach().numpy(), b.detach().numpy())\n",
    "    print(\"Test error rate:\", test_error_rate)"
   ]
  },
  {
   "cell_type": "markdown",
   "id": "1daa3f70",
   "metadata": {},
   "source": [
    "Neural Network"
   ]
  },
  {
   "cell_type": "code",
   "execution_count": 49,
   "id": "3285b29e",
   "metadata": {
    "scrolled": true
   },
   "outputs": [
    {
     "name": "stdout",
     "output_type": "stream",
     "text": [
      "NeuralNetwork(\n",
      "  (flatten): Flatten(start_dim=1, end_dim=-1)\n",
      "  (activation_stack): Sequential(\n",
      "    (0): Linear(in_features=3, out_features=1, bias=True)\n",
      "    (1): ReLU()\n",
      "  )\n",
      ")\n",
      "Epoch [100/10000], Loss: 2.11454201\n",
      "Epoch [200/10000], Loss: 2.01531458\n",
      "Epoch [300/10000], Loss: 1.96324706\n",
      "Epoch [400/10000], Loss: 1.93121898\n",
      "Epoch [500/10000], Loss: 1.90964293\n",
      "Epoch [600/10000], Loss: 1.89407468\n",
      "Epoch [700/10000], Loss: 1.88232148\n",
      "Epoch [800/10000], Loss: 1.87320375\n",
      "Epoch [900/10000], Loss: 1.86602068\n",
      "Epoch [1000/10000], Loss: 1.86031342\n",
      "Epoch [1100/10000], Loss: 1.85575771\n",
      "Epoch [1200/10000], Loss: 1.85211253\n",
      "Epoch [1300/10000], Loss: 1.84919214\n",
      "Epoch [1400/10000], Loss: 1.84685063\n",
      "Epoch [1500/10000], Loss: 1.84497225\n",
      "Epoch [1600/10000], Loss: 1.84346557\n",
      "Epoch [1700/10000], Loss: 1.84225667\n",
      "Epoch [1800/10000], Loss: 1.84128630\n",
      "Epoch [1900/10000], Loss: 1.84050786\n",
      "Epoch [2000/10000], Loss: 1.83988309\n",
      "Epoch [2100/10000], Loss: 1.83938169\n",
      "Epoch [2200/10000], Loss: 1.83897948\n",
      "Epoch [2300/10000], Loss: 1.83865666\n",
      "Epoch [2400/10000], Loss: 1.83839738\n",
      "Epoch [2500/10000], Loss: 1.83818936\n",
      "Epoch [2600/10000], Loss: 1.83802247\n",
      "Epoch [2700/10000], Loss: 1.83788848\n",
      "Epoch [2800/10000], Loss: 1.83778107\n",
      "Epoch [2900/10000], Loss: 1.83769464\n",
      "Epoch [3000/10000], Loss: 1.83762538\n",
      "Epoch [3100/10000], Loss: 1.83756983\n",
      "Epoch [3200/10000], Loss: 1.83752513\n",
      "Epoch [3300/10000], Loss: 1.83748937\n",
      "Epoch [3400/10000], Loss: 1.83746064\n",
      "Epoch [3500/10000], Loss: 1.83743739\n",
      "Epoch [3600/10000], Loss: 1.83741915\n",
      "Epoch [3700/10000], Loss: 1.83740413\n",
      "Epoch [3800/10000], Loss: 1.83739245\n",
      "Epoch [3900/10000], Loss: 1.83738267\n",
      "Epoch [4000/10000], Loss: 1.83737504\n",
      "Epoch [4100/10000], Loss: 1.83736873\n",
      "Epoch [4200/10000], Loss: 1.83736384\n",
      "Epoch [4300/10000], Loss: 1.83736002\n",
      "Epoch [4400/10000], Loss: 1.83735669\n",
      "Epoch [4500/10000], Loss: 1.83735418\n",
      "Epoch [4600/10000], Loss: 1.83735216\n",
      "Epoch [4700/10000], Loss: 1.83735049\n",
      "Epoch [4800/10000], Loss: 1.83734894\n",
      "Epoch [4900/10000], Loss: 1.83734822\n",
      "Epoch [5000/10000], Loss: 1.83734739\n",
      "Epoch [5100/10000], Loss: 1.83734655\n",
      "Epoch [5200/10000], Loss: 1.83734584\n",
      "Epoch [5300/10000], Loss: 1.83734560\n",
      "Epoch [5400/10000], Loss: 1.83734524\n",
      "Epoch [5500/10000], Loss: 1.83734500\n",
      "Epoch [5600/10000], Loss: 1.83734465\n",
      "Epoch [5700/10000], Loss: 1.83734453\n",
      "Epoch [5800/10000], Loss: 1.83734441\n",
      "Epoch [5900/10000], Loss: 1.83734417\n",
      "Epoch [6000/10000], Loss: 1.83734417\n",
      "Epoch [6100/10000], Loss: 1.83734405\n",
      "Epoch [6200/10000], Loss: 1.83734405\n",
      "Epoch [6300/10000], Loss: 1.83734369\n",
      "Epoch [6400/10000], Loss: 1.83734405\n",
      "Epoch [6500/10000], Loss: 1.83734369\n",
      "Epoch [6600/10000], Loss: 1.83734369\n",
      "Epoch [6700/10000], Loss: 1.83734393\n",
      "Epoch [6800/10000], Loss: 1.83734369\n",
      "Epoch [6900/10000], Loss: 1.83734369\n",
      "Epoch [7000/10000], Loss: 1.83734369\n",
      "Epoch [7100/10000], Loss: 1.83734369\n",
      "Epoch [7200/10000], Loss: 1.83734369\n",
      "Epoch [7300/10000], Loss: 1.83734369\n",
      "Epoch [7400/10000], Loss: 1.83734369\n",
      "Epoch [7500/10000], Loss: 1.83734369\n",
      "Epoch [7600/10000], Loss: 1.83734369\n",
      "Epoch [7700/10000], Loss: 1.83734369\n",
      "Epoch [7800/10000], Loss: 1.83734369\n",
      "Epoch [7900/10000], Loss: 1.83734369\n",
      "Epoch [8000/10000], Loss: 1.83734369\n",
      "Epoch [8100/10000], Loss: 1.83734369\n",
      "Epoch [8200/10000], Loss: 1.83734369\n",
      "Epoch [8300/10000], Loss: 1.83734369\n",
      "Epoch [8400/10000], Loss: 1.83734369\n",
      "Epoch [8500/10000], Loss: 1.83734369\n",
      "Epoch [8600/10000], Loss: 1.83734369\n",
      "Epoch [8700/10000], Loss: 1.83734369\n",
      "Epoch [8800/10000], Loss: 1.83734369\n",
      "Epoch [8900/10000], Loss: 1.83734369\n",
      "Epoch [9000/10000], Loss: 1.83734369\n",
      "Epoch [9100/10000], Loss: 1.83734369\n",
      "Epoch [9200/10000], Loss: 1.83734369\n",
      "Epoch [9300/10000], Loss: 1.83734369\n",
      "Epoch [9400/10000], Loss: 1.83734369\n",
      "Epoch [9500/10000], Loss: 1.83734369\n",
      "Epoch [9600/10000], Loss: 1.83734369\n",
      "Epoch [9700/10000], Loss: 1.83734369\n",
      "Epoch [9800/10000], Loss: 1.83734369\n",
      "Epoch [9900/10000], Loss: 1.83734369\n",
      "Epoch [10000/10000], Loss: 1.83734369\n",
      "activation_stack.0.weight: tensor([[1.1324e-05, 4.0914e-05, 3.5839e-05]])\n",
      "activation_stack.0.bias: tensor([3.7374])\n"
     ]
    },
    {
     "data": {
      "image/png": "[encoded data removed]",
      "text/plain": [
       "<Figure size 640x480 with 1 Axes>"
      ]
     },
     "metadata": {},
     "output_type": "display_data"
    }
   ],
   "source": [
    "# Define a custom neural network class\n",
    "class NeuralNetwork(nn.Module):\n",
    "    def __init__(self):\n",
    "        super().__init__()\n",
    "        self.flatten = nn.Flatten()\n",
    "        self.activation_stack = nn.Sequential(\n",
    "            nn.Linear(3, 1),\n",
    "            nn.ReLU()\n",
    "        )\n",
    "\n",
    "    def forward(self, x):\n",
    "        x = self.flatten(x)\n",
    "        logits = self.activation_stack(x)\n",
    "        return logits\n",
    "    \n",
    "# Define the learning rate and number of epochs\n",
    "learning_rate = 0.01\n",
    "num_epochs = 10000\n",
    "\n",
    "# Define the number of features\n",
    "num_features = X_train_tensor.size()[1]\n",
    "\n",
    "# Define the model parameters\n",
    "cost_history = []\n",
    "\n",
    "# Create an instance of the neural network\n",
    "criterion = nn.MSELoss()\n",
    "NeuralNetwork_model = NeuralNetwork()\n",
    "print(NeuralNetwork_model)\n",
    "optimizer = torch.optim.SGD(NeuralNetwork_model.parameters(), lr=learning_rate)\n",
    "\n",
    "# Perform training\n",
    "for epoch in range(num_epochs):\n",
    "    # Forward propagation to obtain the predicted output\n",
    "    outputs = NeuralNetwork_model(X_train_tensor.float())\n",
    "    \n",
    "    # Calculate the loss\n",
    "    loss = criterion(outputs, y_train_tensor.float())\n",
    "    \n",
    "    # Backward propagation and optimization\n",
    "    optimizer.zero_grad()\n",
    "    loss.backward()\n",
    "    optimizer.step()\n",
    "    \n",
    "    # Record the loss\n",
    "    cost_history.append(loss.item())\n",
    "    \n",
    "    # Print the loss every 100 epochs\n",
    "    if (epoch + 1) % 100 == 0:\n",
    "        print(f'Epoch [{epoch+1}/{num_epochs}], Loss: {loss.item():.8f}')\n",
    "        \n",
    "# Print learned parameters\n",
    "for name, param in NeuralNetwork_model.named_parameters():\n",
    "    if param.requires_grad:\n",
    "        print(f'{name}: {param.data}')\n",
    "        \n",
    "# Plot the cost history\n",
    "plt.plot(cost_history)\n",
    "plt.xlabel(\"Iteration\")\n",
    "plt.ylabel(\"Cost\")\n",
    "plt.title(\"Cost History\")\n",
    "plt.show()"
   ]
  },
  {
   "cell_type": "code",
   "execution_count": null,
   "id": "7d747c8f",
   "metadata": {},
   "outputs": [],
   "source": []
  },
  {
   "cell_type": "code",
   "execution_count": null,
   "id": "736d591a",
   "metadata": {},
   "outputs": [],
   "source": []
  },
  {
   "cell_type": "code",
   "execution_count": null,
   "id": "13e7fb72",
   "metadata": {},
   "outputs": [],
   "source": []
  }
 ],
 "metadata": {
  "kernelspec": {
   "display_name": "Python 3 (ipykernel)",
   "language": "python",
   "name": "python3"
  },
  "language_info": {
   "codemirror_mode": {
    "name": "ipython",
    "version": 3
   },
   "file_extension": ".py",
   "mimetype": "text/x-python",
   "name": "python",
   "nbconvert_exporter": "python",
   "pygments_lexer": "ipython3",
   "version": "3.9.13"
  }
 },
 "nbformat": 4,
 "nbformat_minor": 5
}
