{
 "cells": [
  {
   "cell_type": "code",
   "execution_count": 1,
   "id": "938544e0",
   "metadata": {
    "collapsed": true
   },
   "outputs": [
    {
     "name": "stdout",
     "output_type": "stream",
     "text": [
      "Requirement already satisfied: numpy in /opt/anaconda3/envs/pytorch/lib/python3.9/site-packages (1.25.2)\n",
      "\u001b[31mERROR: Could not find a version that satisfies the requirement as (from versions: none)\u001b[0m\u001b[31m\n",
      "\u001b[0m\u001b[31mERROR: No matching distribution found for as\u001b[0m\u001b[31m\n",
      "\u001b[0mRequirement already satisfied: matplotlib in /opt/anaconda3/envs/pytorch/lib/python3.9/site-packages (3.7.1)\n",
      "\u001b[31mERROR: Could not find a version that satisfies the requirement as (from versions: none)\u001b[0m\u001b[31m\n",
      "\u001b[0m\u001b[31mERROR: No matching distribution found for as\u001b[0m\u001b[31m\n",
      "\u001b[0mRequirement already satisfied: torch in /opt/anaconda3/envs/pytorch/lib/python3.9/site-packages (2.0.1)\n",
      "Requirement already satisfied: filelock in /opt/anaconda3/envs/pytorch/lib/python3.9/site-packages (from torch) (3.9.0)\n",
      "Requirement already satisfied: typing-extensions in /opt/anaconda3/envs/pytorch/lib/python3.9/site-packages (from torch) (4.7.1)\n",
      "Requirement already satisfied: sympy in /opt/anaconda3/envs/pytorch/lib/python3.9/site-packages (from torch) (1.11.1)\n",
      "Requirement already satisfied: networkx in /opt/anaconda3/envs/pytorch/lib/python3.9/site-packages (from torch) (3.1)\n",
      "Requirement already satisfied: jinja2 in /opt/anaconda3/envs/pytorch/lib/python3.9/site-packages (from torch) (3.1.2)\n",
      "Requirement already satisfied: MarkupSafe>=2.0 in /opt/anaconda3/envs/pytorch/lib/python3.9/site-packages (from jinja2->torch) (2.1.1)\n",
      "Requirement already satisfied: mpmath>=0.19 in /opt/anaconda3/envs/pytorch/lib/python3.9/site-packages (from sympy->torch) (1.3.0)\n",
      "Requirement already satisfied: pandas in /opt/anaconda3/envs/pytorch/lib/python3.9/site-packages (2.0.3)\n",
      "\u001b[31mERROR: Could not find a version that satisfies the requirement as (from versions: none)\u001b[0m\u001b[31m\n",
      "\u001b[0m\u001b[31mERROR: No matching distribution found for as\u001b[0m\u001b[31m\n",
      "\u001b[0m"
     ]
    }
   ],
   "source": [
    "!pip install numpy as np\n",
    "!pip install matplotlib as plt\n",
    "!pip install torch\n",
    "!pip install pandas as pd"
   ]
  },
  {
   "cell_type": "code",
   "execution_count": 402,
   "id": "77eb81ff",
   "metadata": {
    "scrolled": true
   },
   "outputs": [],
   "source": [
    "import numpy as np\n",
    "import pandas as pd\n",
    "import torch\n",
    "from torch import nn\n",
    "import matplotlib.pyplot as plt\n",
    "from torch.utils.data import TensorDataset\n",
    "\n",
    "#Loading training data\n",
    "bmi = pd.read_csv(\"bmi_train.csv\")\n",
    "bmi.replace({'Gender': {'Female': 0, 'Male': 1}}, inplace=True) #Gender -> boolean\n",
    "bmi = bmi.to_numpy()\n",
    "\n",
    "#Splitting off 80% of data for training, 20% for validation\n",
    "train_split = int(0.8 * len(bmi))\n",
    "bmi_train_data = torch.tensor(bmi[:train_split, [0,1,2]])\n",
    "bmi_train_index = torch.tensor(bmi[:train_split, 3])\n",
    "bmi_validation_data = torch.tensor(bmi[train_split:, [0,1,2]])\n",
    "bmi_validation_index = torch.tensor(bmi[train_split:, 3])\n",
    "\n",
    "#Loading prediction data\n",
    "bmi_pred = pd.read_csv(\"bmi_validation.csv\")\n",
    "bmi_pred.replace({'Gender': {'Female': 0, 'Male': 1}}, inplace=True) #Gender -> boolean\n",
    "bmi_prediction = torch.tensor(bmi_pred.to_numpy())\n",
    "\n",
    "#Generate empty predictions on index\n",
    "prediction_index = len(bmi_pred.index)"
   ]
  },
  {
   "cell_type": "code",
   "execution_count": 403,
   "id": "9c0f31f2",
   "metadata": {},
   "outputs": [],
   "source": [
    "class LinearRegressionModel(nn.Module):\n",
    "    def __init__(self):\n",
    "        super().__init__()\n",
    "        self.weights = nn.Parameter(torch.randn(3, 1, #tensor size (3,1) for 3 variables and 1 output\n",
    "                                               dtype=torch.float),\n",
    "                                  requires_grad=True) #we can update this value with gradient descent\n",
    "        self.bias = nn.Parameter(torch.randn(1,\n",
    "                                            dtype=torch.float),\n",
    "                                requires_grad=True)\n",
    "    #define one computation step as forward\n",
    "    def forward(self, x: torch.Tensor) -> torch.Tensor:\n",
    "        return torch.transpose(self.weights, 0, 1) * x + self.bias #linear regression formula"
   ]
  },
  {
   "cell_type": "code",
   "execution_count": 404,
   "id": "3743f7e0",
   "metadata": {
    "scrolled": true
   },
   "outputs": [
    {
     "data": {
      "text/plain": [
       "[Parameter containing:\n",
       " tensor([[ 0.0589],\n",
       "         [-1.3945],\n",
       "         [ 0.8448]], requires_grad=True),\n",
       " Parameter containing:\n",
       " tensor([0.1268], requires_grad=True)]"
      ]
     },
     "execution_count": 404,
     "metadata": {},
     "output_type": "execute_result"
    }
   ],
   "source": [
    "#Create instance of model\n",
    "model_0 = LinearRegressionModel()\n",
    "\n",
    "#Check nn.Parameters in the nn.Module subclass created\n",
    "list(model_0.parameters())"
   ]
  },
  {
   "cell_type": "code",
   "execution_count": 405,
   "id": "89298ea7",
   "metadata": {},
   "outputs": [],
   "source": [
    "#Make prediction with our model, inference = make prediction\n",
    "#Inference mode make forward() passes faster, but not used for training (no gradient tracking)\n",
    "with torch.inference_mode():\n",
    "    y_pred = model_0(bmi_validation_data)"
   ]
  },
  {
   "cell_type": "code",
   "execution_count": 406,
   "id": "71c05051",
   "metadata": {},
   "outputs": [],
   "source": [
    "#Create loss function (Mean absolute error)\n",
    "loss_fn = nn.L1Loss()\n",
    "\n",
    "#Create the optimizer\n",
    "optimizer = torch.optim.SGD(params=model_0.parameters(), #parameters of target model to optimize\n",
    "                           lr=0.00000003) #learning rate, how much optimizer should change the parameters each step"
   ]
  },
  {
   "cell_type": "code",
   "execution_count": 407,
   "id": "ee736aee",
   "metadata": {},
   "outputs": [
    {
     "name": "stdout",
     "output_type": "stream",
     "text": [
      "Epoch: 1 | MAE Train Loss: 30537.32421875 | MAE Test Loss: 29856.181640625 \n",
      "Epoch: 501 | MAE Train Loss: 15830.75 | MAE Test Loss: 14966.5810546875 \n",
      "Epoch: 1001 | MAE Train Loss: 8177.60693359375 | MAE Test Loss: 8459.99609375 \n",
      "Epoch: 1501 | MAE Train Loss: 6594.4951171875 | MAE Test Loss: 7301.06884765625 \n",
      "Epoch: 2001 | MAE Train Loss: 6015.9560546875 | MAE Test Loss: 6828.72509765625 \n",
      "Epoch: 2501 | MAE Train Loss: 5565.2578125 | MAE Test Loss: 6353.9638671875 \n",
      "Epoch: 3001 | MAE Train Loss: 5122.6533203125 | MAE Test Loss: 5854.72705078125 \n",
      "Epoch: 3501 | MAE Train Loss: 4680.04931640625 | MAE Test Loss: 5355.48876953125 \n",
      "Epoch: 4001 | MAE Train Loss: 4237.5166015625 | MAE Test Loss: 4854.63916015625 \n",
      "Epoch: 4501 | MAE Train Loss: 3795.251953125 | MAE Test Loss: 4347.86328125 \n",
      "Epoch: 5001 | MAE Train Loss: 3352.987060546875 | MAE Test Loss: 3841.09912109375 \n",
      "Epoch: 5501 | MAE Train Loss: 2910.721923828125 | MAE Test Loss: 3334.322265625 \n",
      "Epoch: 6001 | MAE Train Loss: 2468.43017578125 | MAE Test Loss: 2827.52001953125 \n",
      "Epoch: 6501 | MAE Train Loss: 2026.138916015625 | MAE Test Loss: 2320.706298828125 \n",
      "Epoch: 7001 | MAE Train Loss: 1583.845947265625 | MAE Test Loss: 1813.8931884765625 \n",
      "Epoch: 7501 | MAE Train Loss: 1141.5614013671875 | MAE Test Loss: 1307.094970703125 \n",
      "Epoch: 8001 | MAE Train Loss: 699.2808837890625 | MAE Test Loss: 800.300537109375 \n",
      "Epoch: 8501 | MAE Train Loss: 256.9970703125 | MAE Test Loss: 293.4674072265625 \n",
      "Epoch: 9001 | MAE Train Loss: 19.300474166870117 | MAE Test Loss: 11.266395568847656 \n",
      "Epoch: 9501 | MAE Train Loss: 19.300474166870117 | MAE Test Loss: 11.266395568847656 \n",
      "Epoch: 9951 | MAE Train Loss: 19.300474166870117 | MAE Test Loss: 11.266395568847656 \n",
      "Epoch: 9952 | MAE Train Loss: 10.859147071838379 | MAE Test Loss: 19.207862854003906 \n",
      "Epoch: 9953 | MAE Train Loss: 19.300474166870117 | MAE Test Loss: 11.266395568847656 \n",
      "Epoch: 9954 | MAE Train Loss: 10.859147071838379 | MAE Test Loss: 19.207862854003906 \n",
      "Epoch: 9955 | MAE Train Loss: 19.300474166870117 | MAE Test Loss: 11.266395568847656 \n",
      "Epoch: 9956 | MAE Train Loss: 10.859147071838379 | MAE Test Loss: 19.207862854003906 \n",
      "Epoch: 9957 | MAE Train Loss: 19.300474166870117 | MAE Test Loss: 11.266395568847656 \n",
      "Epoch: 9958 | MAE Train Loss: 10.859147071838379 | MAE Test Loss: 19.207862854003906 \n",
      "Epoch: 9959 | MAE Train Loss: 19.300474166870117 | MAE Test Loss: 11.266395568847656 \n",
      "Epoch: 9960 | MAE Train Loss: 10.859147071838379 | MAE Test Loss: 19.207862854003906 \n",
      "Epoch: 9961 | MAE Train Loss: 19.300474166870117 | MAE Test Loss: 11.266395568847656 \n",
      "Epoch: 9962 | MAE Train Loss: 10.859147071838379 | MAE Test Loss: 19.207862854003906 \n",
      "Epoch: 9963 | MAE Train Loss: 19.300474166870117 | MAE Test Loss: 11.266395568847656 \n",
      "Epoch: 9964 | MAE Train Loss: 10.859147071838379 | MAE Test Loss: 19.207862854003906 \n",
      "Epoch: 9965 | MAE Train Loss: 19.300474166870117 | MAE Test Loss: 11.266395568847656 \n",
      "Epoch: 9966 | MAE Train Loss: 10.859147071838379 | MAE Test Loss: 19.207862854003906 \n",
      "Epoch: 9967 | MAE Train Loss: 19.300474166870117 | MAE Test Loss: 11.266395568847656 \n",
      "Epoch: 9968 | MAE Train Loss: 10.859147071838379 | MAE Test Loss: 19.207862854003906 \n",
      "Epoch: 9969 | MAE Train Loss: 19.300474166870117 | MAE Test Loss: 11.266395568847656 \n",
      "Epoch: 9970 | MAE Train Loss: 10.859147071838379 | MAE Test Loss: 19.207862854003906 \n",
      "Epoch: 9971 | MAE Train Loss: 19.300474166870117 | MAE Test Loss: 11.266395568847656 \n",
      "Epoch: 9972 | MAE Train Loss: 10.859147071838379 | MAE Test Loss: 19.207862854003906 \n",
      "Epoch: 9973 | MAE Train Loss: 19.300474166870117 | MAE Test Loss: 11.266395568847656 \n",
      "Epoch: 9974 | MAE Train Loss: 10.859147071838379 | MAE Test Loss: 19.207862854003906 \n",
      "Epoch: 9975 | MAE Train Loss: 19.300474166870117 | MAE Test Loss: 11.266395568847656 \n",
      "Epoch: 9976 | MAE Train Loss: 10.859147071838379 | MAE Test Loss: 19.207862854003906 \n",
      "Epoch: 9977 | MAE Train Loss: 19.300474166870117 | MAE Test Loss: 11.266395568847656 \n",
      "Epoch: 9978 | MAE Train Loss: 10.859147071838379 | MAE Test Loss: 19.207862854003906 \n",
      "Epoch: 9979 | MAE Train Loss: 19.300474166870117 | MAE Test Loss: 11.266395568847656 \n",
      "Epoch: 9980 | MAE Train Loss: 10.859147071838379 | MAE Test Loss: 19.207862854003906 \n",
      "Epoch: 9981 | MAE Train Loss: 19.300474166870117 | MAE Test Loss: 11.266395568847656 \n",
      "Epoch: 9982 | MAE Train Loss: 10.859147071838379 | MAE Test Loss: 19.207862854003906 \n",
      "Epoch: 9983 | MAE Train Loss: 19.300474166870117 | MAE Test Loss: 11.266395568847656 \n",
      "Epoch: 9984 | MAE Train Loss: 10.859147071838379 | MAE Test Loss: 19.207862854003906 \n",
      "Epoch: 9985 | MAE Train Loss: 19.300474166870117 | MAE Test Loss: 11.266395568847656 \n",
      "Epoch: 9986 | MAE Train Loss: 10.859147071838379 | MAE Test Loss: 19.207862854003906 \n",
      "Epoch: 9987 | MAE Train Loss: 19.300474166870117 | MAE Test Loss: 11.266395568847656 \n",
      "Epoch: 9988 | MAE Train Loss: 10.859147071838379 | MAE Test Loss: 19.207862854003906 \n",
      "Epoch: 9989 | MAE Train Loss: 19.300474166870117 | MAE Test Loss: 11.266395568847656 \n",
      "Epoch: 9990 | MAE Train Loss: 10.859147071838379 | MAE Test Loss: 19.207862854003906 \n",
      "Epoch: 9991 | MAE Train Loss: 19.300474166870117 | MAE Test Loss: 11.266395568847656 \n",
      "Epoch: 9992 | MAE Train Loss: 10.859147071838379 | MAE Test Loss: 19.207862854003906 \n",
      "Epoch: 9993 | MAE Train Loss: 19.300474166870117 | MAE Test Loss: 11.266395568847656 \n",
      "Epoch: 9994 | MAE Train Loss: 10.859147071838379 | MAE Test Loss: 19.207862854003906 \n",
      "Epoch: 9995 | MAE Train Loss: 19.300474166870117 | MAE Test Loss: 11.266395568847656 \n",
      "Epoch: 9996 | MAE Train Loss: 10.859147071838379 | MAE Test Loss: 19.207862854003906 \n",
      "Epoch: 9997 | MAE Train Loss: 19.300474166870117 | MAE Test Loss: 11.266395568847656 \n",
      "Epoch: 9998 | MAE Train Loss: 10.859147071838379 | MAE Test Loss: 19.207862854003906 \n",
      "Epoch: 9999 | MAE Train Loss: 19.300474166870117 | MAE Test Loss: 11.266395568847656 \n"
     ]
    }
   ],
   "source": [
    "#ACTUAL TRAINING OF THE MODEL\n",
    "\n",
    "torch.manual_seed(44)\n",
    "#no. of times the model will pass over the training data\n",
    "epochs = 10000\n",
    "\n",
    "#Create empty loss list to track loss values\n",
    "train_loss_values = []\n",
    "test_loss_values = []\n",
    "epoch_count = []\n",
    "\n",
    "for epoch in range(epochs):\n",
    "    ###TRAINING!!!\n",
    "    \n",
    "    #Put model in training mode\n",
    "    model_0.train()\n",
    "    \n",
    "    # 1. Forward pass on train data\n",
    "    y_pred = model_0(bmi_train_data) #weight prediction\n",
    "    index_pred = torch.sum(torch.mul(y_pred, bmi_train_data), dim=1) #sum product of weight and data\n",
    "        \n",
    "    # 2. Calculate loss from prediction\n",
    "    loss = loss_fn(index_pred, bmi_train_index)\n",
    "    \n",
    "    # 3. Zero grad of optimizer\n",
    "    optimizer.zero_grad()\n",
    "    \n",
    "    # 4. Loss backwards\n",
    "    loss.backward()\n",
    "    \n",
    "    # 5. Progress the optimizer\n",
    "    optimizer.step()\n",
    "    \n",
    "    ###TESTING ACCURACY!!!\n",
    "    \n",
    "    #Put model in evaluation mode\n",
    "    model_0.eval()\n",
    "    \n",
    "    with torch.inference_mode():\n",
    "        # 1. Forward pass on test data\n",
    "        test_pred = model_0(bmi_validation_data)\n",
    "        \n",
    "        # 2. Calculate loss on test data\n",
    "        test_sum_prod = torch.sum(torch.mul(test_pred, bmi_validation_data), dim=1)\n",
    "        test_loss = loss_fn(test_sum_prod, bmi_validation_index)\n",
    "        \n",
    "        #Print out what is happening (each 10 steps)\n",
    "        if epoch % 500 == 1 or epoch > 9950:\n",
    "            epoch_count.append(epoch)\n",
    "            train_loss_values.append(loss.detach().numpy())\n",
    "            test_loss_values.append(test_loss.detach().numpy())\n",
    "            print(f\"Epoch: {epoch} | MAE Train Loss: {loss} | MAE Test Loss: {test_loss} \")\n",
    "    \n",
    "    "
   ]
  },
  {
   "cell_type": "code",
   "execution_count": 408,
   "id": "c17bfd4d",
   "metadata": {},
   "outputs": [
    {
     "data": {
      "image/png": "[encoded data removed]",
      "text/plain": [
       "<Figure size 640x480 with 1 Axes>"
      ]
     },
     "metadata": {},
     "output_type": "display_data"
    }
   ],
   "source": [
    "#Plot the loss curves\n",
    "# Plot the loss curves\n",
    "plt.plot(epoch_count, train_loss_values, label=\"Train loss\")\n",
    "plt.plot(epoch_count, test_loss_values, label=\"Test loss\")\n",
    "plt.title(\"Training and test loss curves\")\n",
    "plt.ylabel(\"Loss\")\n",
    "plt.xlabel(\"Epochs\")\n",
    "plt.legend();"
   ]
  },
  {
   "cell_type": "code",
   "execution_count": 409,
   "id": "e2ece1c5",
   "metadata": {
    "scrolled": true
   },
   "outputs": [
    {
     "name": "stdout",
     "output_type": "stream",
     "text": [
      "The model learned the following values for weights and bias:\n",
      "OrderedDict([('weights', tensor([[ 5.8961e-02],\n",
      "        [-7.4739e-04],\n",
      "        [-7.2477e-06]])), ('bias', tensor([0.1323]))])\n"
     ]
    }
   ],
   "source": [
    "#Find model's learnt parameters\n",
    "# Find our model's learned parameters\n",
    "print(\"The model learned the following values for weights and bias:\")\n",
    "print(model_0.state_dict())"
   ]
  },
  {
   "cell_type": "code",
   "execution_count": null,
   "id": "e5a4eb0e",
   "metadata": {},
   "outputs": [],
   "source": []
  }
 ],
 "metadata": {
  "kernelspec": {
   "display_name": "Python 3 (ipykernel)",
   "language": "python",
   "name": "python3"
  },
  "language_info": {
   "codemirror_mode": {
    "name": "ipython",
    "version": 3
   },
   "file_extension": ".py",
   "mimetype": "text/x-python",
   "name": "python",
   "nbconvert_exporter": "python",
   "pygments_lexer": "ipython3",
   "version": "3.9.13"
  }
 },
 "nbformat": 4,
 "nbformat_minor": 5
}
