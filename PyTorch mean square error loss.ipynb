{
 "cells": [
  {
   "cell_type": "code",
   "execution_count": 1,
   "id": "938544e0",
   "metadata": {
    "collapsed": true
   },
   "outputs": [
    {
     "name": "stdout",
     "output_type": "stream",
     "text": [
      "Requirement already satisfied: numpy in /opt/anaconda3/envs/pytorch/lib/python3.9/site-packages (1.25.2)\n",
      "\u001b[31mERROR: Could not find a version that satisfies the requirement as (from versions: none)\u001b[0m\u001b[31m\n",
      "\u001b[0m\u001b[31mERROR: No matching distribution found for as\u001b[0m\u001b[31m\n",
      "\u001b[0mRequirement already satisfied: matplotlib in /opt/anaconda3/envs/pytorch/lib/python3.9/site-packages (3.7.1)\n",
      "\u001b[31mERROR: Could not find a version that satisfies the requirement as (from versions: none)\u001b[0m\u001b[31m\n",
      "\u001b[0m\u001b[31mERROR: No matching distribution found for as\u001b[0m\u001b[31m\n",
      "\u001b[0mRequirement already satisfied: torch in /opt/anaconda3/envs/pytorch/lib/python3.9/site-packages (2.0.1)\n",
      "Requirement already satisfied: filelock in /opt/anaconda3/envs/pytorch/lib/python3.9/site-packages (from torch) (3.9.0)\n",
      "Requirement already satisfied: typing-extensions in /opt/anaconda3/envs/pytorch/lib/python3.9/site-packages (from torch) (4.7.1)\n",
      "Requirement already satisfied: sympy in /opt/anaconda3/envs/pytorch/lib/python3.9/site-packages (from torch) (1.11.1)\n",
      "Requirement already satisfied: networkx in /opt/anaconda3/envs/pytorch/lib/python3.9/site-packages (from torch) (3.1)\n",
      "Requirement already satisfied: jinja2 in /opt/anaconda3/envs/pytorch/lib/python3.9/site-packages (from torch) (3.1.2)\n",
      "Requirement already satisfied: MarkupSafe>=2.0 in /opt/anaconda3/envs/pytorch/lib/python3.9/site-packages (from jinja2->torch) (2.1.1)\n",
      "Requirement already satisfied: mpmath>=0.19 in /opt/anaconda3/envs/pytorch/lib/python3.9/site-packages (from sympy->torch) (1.3.0)\n",
      "Requirement already satisfied: pandas in /opt/anaconda3/envs/pytorch/lib/python3.9/site-packages (2.0.3)\n",
      "\u001b[31mERROR: Could not find a version that satisfies the requirement as (from versions: none)\u001b[0m\u001b[31m\n",
      "\u001b[0m\u001b[31mERROR: No matching distribution found for as\u001b[0m\u001b[31m\n",
      "\u001b[0m"
     ]
    }
   ],
   "source": [
    "!pip install numpy as np\n",
    "!pip install matplotlib as plt\n",
    "!pip install torch\n",
    "!pip install pandas as pd"
   ]
  },
  {
   "cell_type": "code",
   "execution_count": 160,
   "id": "77eb81ff",
   "metadata": {
    "scrolled": true
   },
   "outputs": [],
   "source": [
    "import numpy as np\n",
    "import pandas as pd\n",
    "import torch\n",
    "from torch import nn\n",
    "import matplotlib.pyplot as plt\n",
    "from torch.utils.data import TensorDataset\n",
    "\n",
    "#Loading training data\n",
    "bmi = pd.read_csv(\"bmi_train.csv\")\n",
    "bmi.replace({'Gender': {'Female': 0, 'Male': 1}}, inplace=True) #Gender -> boolean\n",
    "bmi = bmi.to_numpy()\n",
    "\n",
    "#Splitting off 80% of data for training, 20% for validation\n",
    "train_split = int(0.8 * len(bmi))\n",
    "bmi_train_data = torch.tensor(bmi[:train_split, [0,1,2]], dtype=torch.float32)\n",
    "bmi_train_index = torch.tensor(bmi[:train_split, 3], dtype=torch.float32)\n",
    "bmi_validation_data = torch.tensor(bmi[train_split:, [0,1,2]], dtype=torch.float32)\n",
    "bmi_validation_index = torch.tensor(bmi[train_split:, 3], dtype=torch.float32)\n",
    "\n",
    "#Loading prediction data\n",
    "bmi_pred = pd.read_csv(\"bmi_validation.csv\")\n",
    "bmi_pred.replace({'Gender': {'Female': 0, 'Male': 1}}, inplace=True) #Gender -> boolean\n",
    "bmi_prediction = torch.tensor(bmi_pred.to_numpy(), dtype=torch.float32)\n",
    "\n",
    "#Generate empty predictions on index\n",
    "#prediction_index = len(bmi_pred.index)"
   ]
  },
  {
   "cell_type": "code",
   "execution_count": 161,
   "id": "9c0f31f2",
   "metadata": {},
   "outputs": [],
   "source": [
    "torch.manual_seed(42)\n",
    "\n",
    "class LinearRegressionModel(nn.Module):\n",
    "    def __init__(self):\n",
    "        super().__init__()\n",
    "        self.weights = nn.Parameter(torch.randn(3, 1, #tensor size (3,1) for 3 variables and 1 output\n",
    "                                               dtype=torch.float),\n",
    "                                  requires_grad=True) #we can update this value with gradient descent\n",
    "#        self.bias = nn.Parameter(torch.randn(1,\n",
    "#                                            dtype=torch.float),\n",
    "#                                requires_grad=True)\n",
    "    #define one computation step as forward\n",
    "    def forward(self, x: torch.Tensor) -> torch.Tensor:\n",
    "        return torch.transpose(self.weights, 0, 1) * x # + self.bias #regression formula"
   ]
  },
  {
   "cell_type": "code",
   "execution_count": 162,
   "id": "3743f7e0",
   "metadata": {
    "scrolled": true
   },
   "outputs": [
    {
     "data": {
      "text/plain": [
       "[Parameter containing:\n",
       " tensor([[0.3367],\n",
       "         [0.1288],\n",
       "         [0.2345]], requires_grad=True)]"
      ]
     },
     "execution_count": 162,
     "metadata": {},
     "output_type": "execute_result"
    }
   ],
   "source": [
    "#Create instance of model\n",
    "model_0 = LinearRegressionModel()\n",
    "\n",
    "#Check nn.Parameters in the nn.Module subclass created\n",
    "list(model_0.parameters())"
   ]
  },
  {
   "cell_type": "code",
   "execution_count": 163,
   "id": "89298ea7",
   "metadata": {},
   "outputs": [],
   "source": [
    "#Make prediction with our model, inference = make prediction\n",
    "#Inference mode make forward() passes faster, but not used for training (no gradient tracking)\n",
    "with torch.inference_mode():\n",
    "    y_pred = model_0(bmi_validation_data)"
   ]
  },
  {
   "cell_type": "code",
   "execution_count": 164,
   "id": "71c05051",
   "metadata": {},
   "outputs": [],
   "source": [
    "#Create loss function (Mean absolute error)\n",
    "loss_fn = nn.MSELoss()\n",
    "\n",
    "#Create the optimizer\n",
    "optimizer = torch.optim.SGD(params=model_0.parameters(), #parameters of target model to optimize\n",
    "                           lr=0.01) #learning rate, how much optimizer should change the parameters each step"
   ]
  },
  {
   "cell_type": "code",
   "execution_count": 165,
   "id": "ee736aee",
   "metadata": {},
   "outputs": [
    {
     "name": "stdout",
     "output_type": "stream",
     "text": [
      "Epoch: 0 | MAE Train Loss: 46909848.0 | MAE Test Loss: 2.0163376640074736e+22 \n",
      "Epoch: 1 | MAE Train Loss: 1.98261088193804e+22 | MAE Test Loss: inf \n",
      "Epoch: 2 | MAE Train Loss: inf | MAE Test Loss: inf \n",
      "Epoch: 3 | MAE Train Loss: inf | MAE Test Loss: inf \n",
      "Epoch: 4 | MAE Train Loss: inf | MAE Test Loss: inf \n",
      "Epoch: 5 | MAE Train Loss: inf | MAE Test Loss: nan \n",
      "Epoch: 6 | MAE Train Loss: nan | MAE Test Loss: nan \n",
      "Epoch: 7 | MAE Train Loss: nan | MAE Test Loss: nan \n",
      "Epoch: 8 | MAE Train Loss: nan | MAE Test Loss: nan \n",
      "Epoch: 9 | MAE Train Loss: nan | MAE Test Loss: nan \n",
      "Epoch: 10 | MAE Train Loss: nan | MAE Test Loss: nan \n",
      "Epoch: 11 | MAE Train Loss: nan | MAE Test Loss: nan \n",
      "Epoch: 12 | MAE Train Loss: nan | MAE Test Loss: nan \n",
      "Epoch: 13 | MAE Train Loss: nan | MAE Test Loss: nan \n",
      "Epoch: 14 | MAE Train Loss: nan | MAE Test Loss: nan \n",
      "Epoch: 15 | MAE Train Loss: nan | MAE Test Loss: nan \n",
      "Epoch: 16 | MAE Train Loss: nan | MAE Test Loss: nan \n",
      "Epoch: 17 | MAE Train Loss: nan | MAE Test Loss: nan \n",
      "Epoch: 18 | MAE Train Loss: nan | MAE Test Loss: nan \n",
      "Epoch: 19 | MAE Train Loss: nan | MAE Test Loss: nan \n",
      "Epoch: 20 | MAE Train Loss: nan | MAE Test Loss: nan \n",
      "Epoch: 21 | MAE Train Loss: nan | MAE Test Loss: nan \n",
      "Epoch: 22 | MAE Train Loss: nan | MAE Test Loss: nan \n",
      "Epoch: 23 | MAE Train Loss: nan | MAE Test Loss: nan \n",
      "Epoch: 24 | MAE Train Loss: nan | MAE Test Loss: nan \n",
      "Epoch: 25 | MAE Train Loss: nan | MAE Test Loss: nan \n",
      "Epoch: 26 | MAE Train Loss: nan | MAE Test Loss: nan \n",
      "Epoch: 27 | MAE Train Loss: nan | MAE Test Loss: nan \n",
      "Epoch: 28 | MAE Train Loss: nan | MAE Test Loss: nan \n",
      "Epoch: 29 | MAE Train Loss: nan | MAE Test Loss: nan \n",
      "Epoch: 30 | MAE Train Loss: nan | MAE Test Loss: nan \n",
      "Epoch: 31 | MAE Train Loss: nan | MAE Test Loss: nan \n",
      "Epoch: 32 | MAE Train Loss: nan | MAE Test Loss: nan \n",
      "Epoch: 33 | MAE Train Loss: nan | MAE Test Loss: nan \n",
      "Epoch: 34 | MAE Train Loss: nan | MAE Test Loss: nan \n",
      "Epoch: 35 | MAE Train Loss: nan | MAE Test Loss: nan \n",
      "Epoch: 36 | MAE Train Loss: nan | MAE Test Loss: nan \n",
      "Epoch: 37 | MAE Train Loss: nan | MAE Test Loss: nan \n",
      "Epoch: 38 | MAE Train Loss: nan | MAE Test Loss: nan \n",
      "Epoch: 39 | MAE Train Loss: nan | MAE Test Loss: nan \n",
      "Epoch: 40 | MAE Train Loss: nan | MAE Test Loss: nan \n",
      "Epoch: 41 | MAE Train Loss: nan | MAE Test Loss: nan \n",
      "Epoch: 42 | MAE Train Loss: nan | MAE Test Loss: nan \n",
      "Epoch: 43 | MAE Train Loss: nan | MAE Test Loss: nan \n",
      "Epoch: 44 | MAE Train Loss: nan | MAE Test Loss: nan \n",
      "Epoch: 45 | MAE Train Loss: nan | MAE Test Loss: nan \n",
      "Epoch: 46 | MAE Train Loss: nan | MAE Test Loss: nan \n",
      "Epoch: 47 | MAE Train Loss: nan | MAE Test Loss: nan \n",
      "Epoch: 48 | MAE Train Loss: nan | MAE Test Loss: nan \n",
      "Epoch: 49 | MAE Train Loss: nan | MAE Test Loss: nan \n",
      "Epoch: 50 | MAE Train Loss: nan | MAE Test Loss: nan \n",
      "Epoch: 51 | MAE Train Loss: nan | MAE Test Loss: nan \n",
      "Epoch: 52 | MAE Train Loss: nan | MAE Test Loss: nan \n",
      "Epoch: 53 | MAE Train Loss: nan | MAE Test Loss: nan \n",
      "Epoch: 54 | MAE Train Loss: nan | MAE Test Loss: nan \n",
      "Epoch: 55 | MAE Train Loss: nan | MAE Test Loss: nan \n",
      "Epoch: 56 | MAE Train Loss: nan | MAE Test Loss: nan \n",
      "Epoch: 57 | MAE Train Loss: nan | MAE Test Loss: nan \n",
      "Epoch: 58 | MAE Train Loss: nan | MAE Test Loss: nan \n",
      "Epoch: 59 | MAE Train Loss: nan | MAE Test Loss: nan \n",
      "Epoch: 60 | MAE Train Loss: nan | MAE Test Loss: nan \n",
      "Epoch: 61 | MAE Train Loss: nan | MAE Test Loss: nan \n",
      "Epoch: 62 | MAE Train Loss: nan | MAE Test Loss: nan \n",
      "Epoch: 63 | MAE Train Loss: nan | MAE Test Loss: nan \n",
      "Epoch: 64 | MAE Train Loss: nan | MAE Test Loss: nan \n",
      "Epoch: 65 | MAE Train Loss: nan | MAE Test Loss: nan \n",
      "Epoch: 66 | MAE Train Loss: nan | MAE Test Loss: nan \n",
      "Epoch: 67 | MAE Train Loss: nan | MAE Test Loss: nan \n",
      "Epoch: 68 | MAE Train Loss: nan | MAE Test Loss: nan \n",
      "Epoch: 69 | MAE Train Loss: nan | MAE Test Loss: nan \n",
      "Epoch: 70 | MAE Train Loss: nan | MAE Test Loss: nan \n",
      "Epoch: 71 | MAE Train Loss: nan | MAE Test Loss: nan \n",
      "Epoch: 72 | MAE Train Loss: nan | MAE Test Loss: nan \n",
      "Epoch: 73 | MAE Train Loss: nan | MAE Test Loss: nan \n",
      "Epoch: 74 | MAE Train Loss: nan | MAE Test Loss: nan \n",
      "Epoch: 75 | MAE Train Loss: nan | MAE Test Loss: nan \n",
      "Epoch: 76 | MAE Train Loss: nan | MAE Test Loss: nan \n",
      "Epoch: 77 | MAE Train Loss: nan | MAE Test Loss: nan \n",
      "Epoch: 78 | MAE Train Loss: nan | MAE Test Loss: nan \n",
      "Epoch: 79 | MAE Train Loss: nan | MAE Test Loss: nan \n",
      "Epoch: 80 | MAE Train Loss: nan | MAE Test Loss: nan \n",
      "Epoch: 81 | MAE Train Loss: nan | MAE Test Loss: nan \n",
      "Epoch: 82 | MAE Train Loss: nan | MAE Test Loss: nan \n",
      "Epoch: 83 | MAE Train Loss: nan | MAE Test Loss: nan \n",
      "Epoch: 84 | MAE Train Loss: nan | MAE Test Loss: nan \n",
      "Epoch: 85 | MAE Train Loss: nan | MAE Test Loss: nan \n",
      "Epoch: 86 | MAE Train Loss: nan | MAE Test Loss: nan \n",
      "Epoch: 87 | MAE Train Loss: nan | MAE Test Loss: nan \n",
      "Epoch: 88 | MAE Train Loss: nan | MAE Test Loss: nan \n",
      "Epoch: 89 | MAE Train Loss: nan | MAE Test Loss: nan \n",
      "Epoch: 90 | MAE Train Loss: nan | MAE Test Loss: nan \n",
      "Epoch: 91 | MAE Train Loss: nan | MAE Test Loss: nan \n",
      "Epoch: 92 | MAE Train Loss: nan | MAE Test Loss: nan \n",
      "Epoch: 93 | MAE Train Loss: nan | MAE Test Loss: nan \n",
      "Epoch: 94 | MAE Train Loss: nan | MAE Test Loss: nan \n",
      "Epoch: 95 | MAE Train Loss: nan | MAE Test Loss: nan \n",
      "Epoch: 96 | MAE Train Loss: nan | MAE Test Loss: nan \n",
      "Epoch: 97 | MAE Train Loss: nan | MAE Test Loss: nan \n",
      "Epoch: 98 | MAE Train Loss: nan | MAE Test Loss: nan \n",
      "Epoch: 99 | MAE Train Loss: nan | MAE Test Loss: nan \n"
     ]
    }
   ],
   "source": [
    "#ACTUAL TRAINING OF THE MODEL\n",
    "\n",
    "torch.manual_seed(42)\n",
    "#no. of times the model will pass over the training data\n",
    "epochs = 100\n",
    "\n",
    "#Create empty loss list to track loss values\n",
    "train_loss_values = []\n",
    "test_loss_values = []\n",
    "epoch_count = []\n",
    "\n",
    "for epoch in range(epochs):\n",
    "    ###TRAINING!!!\n",
    "    \n",
    "    #Put model in training mode\n",
    "    model_0.train()\n",
    "    \n",
    "    # 1. Forward pass on train data\n",
    "    y_pred = model_0(bmi_train_data) #weight prediction\n",
    "    #calculated index prediction\n",
    "    index_pred = torch.sum(torch.mul(bmi_train_data, y_pred), dim=1) #sum product of weight and data\n",
    "        \n",
    "    # 2. Calculate loss from prediction\n",
    "    loss = loss_fn(index_pred, bmi_train_index)\n",
    "    \n",
    "    # 3. Zero grad of optimizer\n",
    "    optimizer.zero_grad()\n",
    "    \n",
    "    # 4. Loss backwards\n",
    "    loss.backward()\n",
    "    \n",
    "    # 5. Progress the optimizer\n",
    "    optimizer.step()\n",
    "    \n",
    "    ###TESTING ACCURACY!!!\n",
    "    \n",
    "    #Put model in evaluation mode\n",
    "    model_0.eval()\n",
    "    \n",
    "    with torch.inference_mode():\n",
    "        # 1. Forward pass on test data\n",
    "        test_pred = model_0(bmi_validation_data)\n",
    "        \n",
    "        # 2. Calculate loss on test data\n",
    "        test_sum_prod = torch.sum(torch.mul(bmi_validation_data, test_pred), dim=1)\n",
    "        test_loss = loss_fn(test_sum_prod, bmi_validation_index)\n",
    "        \n",
    "        #Print out what is happening (each 10 steps)\n",
    "        if epoch % 10 == 9:\n",
    "            epoch_count.append(epoch)\n",
    "            train_loss_values.append(loss.detach().numpy())\n",
    "            test_loss_values.append(test_loss.detach().numpy())\n",
    "            print(f\"Epoch: {epoch} | MAE Train Loss: {loss} | MAE Test Loss: {test_loss} \")\n",
    "    \n",
    "    "
   ]
  },
  {
   "cell_type": "code",
   "execution_count": 166,
   "id": "c17bfd4d",
   "metadata": {},
   "outputs": [
    {
     "data": {
      "image/png": "[encoded data removed]",
      "text/plain": [
       "<Figure size 640x480 with 1 Axes>"
      ]
     },
     "metadata": {},
     "output_type": "display_data"
    }
   ],
   "source": [
    "#Plot the loss curves\n",
    "# Plot the loss curves\n",
    "plt.plot(epoch_count, train_loss_values, label=\"Train loss\")\n",
    "plt.plot(epoch_count, test_loss_values, label=\"Test loss\")\n",
    "plt.title(\"Training and test loss curves\")\n",
    "plt.ylabel(\"Loss\")\n",
    "plt.xlabel(\"Epochs\")\n",
    "plt.legend();"
   ]
  },
  {
   "cell_type": "code",
   "execution_count": 123,
   "id": "e2ece1c5",
   "metadata": {
    "scrolled": true
   },
   "outputs": [
    {
     "name": "stdout",
     "output_type": "stream",
     "text": [
      "The model learned the following values for weights and bias:\n",
      "OrderedDict([('weights', tensor([[nan],\n",
      "        [nan],\n",
      "        [nan]]))])\n"
     ]
    }
   ],
   "source": [
    "#Find model's learnt parameters\n",
    "# Find our model's learned parameters\n",
    "print(\"The model learned the following values for weights and bias:\")\n",
    "print(model_0.state_dict())"
   ]
  },
  {
   "cell_type": "code",
   "execution_count": null,
   "id": "e5a4eb0e",
   "metadata": {},
   "outputs": [],
   "source": []
  }
 ],
 "metadata": {
  "kernelspec": {
   "display_name": "Python 3 (ipykernel)",
   "language": "python",
   "name": "python3"
  },
  "language_info": {
   "codemirror_mode": {
    "name": "ipython",
    "version": 3
   },
   "file_extension": ".py",
   "mimetype": "text/x-python",
   "name": "python",
   "nbconvert_exporter": "python",
   "pygments_lexer": "ipython3",
   "version": "3.9.13"
  }
 },
 "nbformat": 4,
 "nbformat_minor": 5
}
